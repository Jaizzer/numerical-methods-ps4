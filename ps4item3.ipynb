{
 "cells": [
  {
   "cell_type": "markdown",
   "metadata": {
    "id": "mMp8mWh9TJoq"
   },
   "source": [
    "## Florenz Jaizzer P. Calderon"
   ]
  },
  {
   "cell_type": "markdown",
   "metadata": {
    "id": "t8r9L_bHSLjt"
   },
   "source": [
    "# Reused LU_solve function and other related dependencies from Problem Set 3 Code Submission"
   ]
  },
  {
   "cell_type": "code",
   "execution_count": 17,
   "metadata": {
    "id": "vr523IEvSIv1"
   },
   "outputs": [],
   "source": [
    "import numpy as np\n",
    "\n",
    "\"\"\"\n",
    "    LU_solve function and other related dependencies came from our Problem Set 3 code submission\n",
    "\"\"\"\n",
    "\n",
    "def LU_solve(A, r):\n",
    "    # Note:\n",
    "    # Ax = r where A = LU\n",
    "    # <=> LUx = r where Ux = y\n",
    "    # <=> Ly = r\n",
    "\n",
    "    # Decompose A matrix into lower and upper triangular form: A = LU using SAXPY method\n",
    "    L, U = perform_SAXPY_factorization(A)\n",
    "\n",
    "    # Solve for y in Ly = r\n",
    "    y = perform_forward_substitution(L, r)\n",
    "\n",
    "    # Solve for x in Ux = y\n",
    "    x = perform_backward_substitution(U, y)\n",
    "\n",
    "    return x\n",
    "\n",
    "\n",
    "def perform_backward_substitution(U, y):\n",
    "    # Determine the matrix size of the upper triangular matrix\n",
    "    matrix_size = len(U)\n",
    "\n",
    "    # Initialize the x-matrix\n",
    "    x = np.array([0 for i in range(matrix_size)], dtype=np.float64)\n",
    "\n",
    "    # Perform backward substitution\n",
    "    for row in range(matrix_size):\n",
    "        summation = 0\n",
    "        for col in range(matrix_size - row, matrix_size):\n",
    "            summation += U[matrix_size - (row + 1)][col] * x[col]\n",
    "        x[matrix_size - (row + 1)] = (y[matrix_size - (row + 1)] - summation) / U[matrix_size - (row + 1)][matrix_size - (row + 1)]\n",
    "\n",
    "    return x\n",
    "\n",
    "\n",
    "def perform_forward_substitution(L, r):\n",
    "    # Determine the matrix size of the lower triangular matrix\n",
    "    matrix_size = len(L)\n",
    "\n",
    "    # Initialize the y matrix\n",
    "    y = np.array([0 for i in range(matrix_size)], dtype=np.float64)\n",
    "\n",
    "    # Perform forward substitution\n",
    "    for i in range(matrix_size):\n",
    "        y[i] = r[i]\n",
    "        for j in range(i):\n",
    "            y[i] -= L[i][j] * y[j]\n",
    "\n",
    "    return y\n",
    "\n",
    "\n",
    "def perform_SAXPY_factorization(array):\n",
    "    # Determine the size of the array\n",
    "    matrix_size = len(array)\n",
    "\n",
    "    # Copy the matrix\n",
    "    A = np.array(array, dtype=np.float64)\n",
    "\n",
    "    # Store factorized lower and upper triangular inside A\n",
    "    for k in range(matrix_size):\n",
    "        for j in range(k + 1, matrix_size):\n",
    "            A[j][k] = A[j][k] / A[k][k]\n",
    "        for j in range(k + 1, matrix_size):\n",
    "            for i in range (k + 1, matrix_size):\n",
    "                A[i][j] = A[i][j] - A[i][k] * A[k][j]\n",
    "\n",
    "    # Extract lower and upper triangular from A\n",
    "    return get_lower_and_upper_triangular_matrices(A)\n",
    "\n",
    "\n",
    "def get_lower_and_upper_triangular_matrices(array):\n",
    "    # Determine the size of the array\n",
    "    matrix_size = len(array)\n",
    "\n",
    "    # Copy the matrix\n",
    "    A = np.array(array, dtype=np.float64)\n",
    "\n",
    "    # Initialize lower and upper triangular matrices\n",
    "    L = np.zeros((matrix_size, matrix_size), dtype=np.float64)\n",
    "    U = np.zeros((matrix_size, matrix_size), dtype=np.float64)\n",
    "\n",
    "    # Separate lower and upper triangular from A\n",
    "    for i in range(matrix_size):\n",
    "        L[i][i] = 1.0\n",
    "        for j in range(i):\n",
    "            L[i][j] = A[i][j]\n",
    "        for j in range(i, matrix_size):\n",
    "            U[i][j] = A[i][j]\n",
    "\n",
    "    return [L, U]"
   ]
  },
  {
   "cell_type": "markdown",
   "metadata": {
    "id": "JMl3JJO3SVhu"
   },
   "source": [
    "# Newton-Cotes Quadrature Related Functions"
   ]
  },
  {
   "cell_type": "code",
   "execution_count": 18,
   "metadata": {
    "id": "3nHZzCsp0QhG"
   },
   "outputs": [],
   "source": [
    "def NormalNCWeights(n):\n",
    "    # Initialize an arbitraty interval\n",
    "    left_endpoint = -1\n",
    "    right_endpoint = 1\n",
    "\n",
    "    # Generate the equidistant nodes at the interval [left_endpoint, right_endpoint]\n",
    "    x = np.linspace(left_endpoint, right_endpoint, num = n + 1)\n",
    "\n",
    "    # Generate the Vandermonde matrix using the nodes\n",
    "    V_transposed = [[0 for _ in range(n + 1)] for _ in range(n + 1)]\n",
    "    for i in range(n + 1):\n",
    "        for j in range(n + 1):\n",
    "            V_transposed[i][j] = (x[j])**(i)\n",
    "\n",
    "    # Initialize the matrix to store the evaluated integral of polynomial p_n(x) on [left_endpoint, right_endpoint]\n",
    "    y = [0 for _ in range(n + 1)]\n",
    "\n",
    "    # Evaluate the integral of polynomial p_n(x) on [left_endpoint, right_endpoint]\n",
    "    for i in range(n + 1):\n",
    "        y[i] = ((right_endpoint)**(i + 1) - (left_endpoint)**(i + 1)) /(i + 1)\n",
    "\n",
    "    # Calculate the normalization factor\n",
    "    normalization_factor = n / (right_endpoint - left_endpoint)\n",
    "\n",
    "    # Solve for the unnormalized weights\n",
    "    unnormalized_weights = LU_solve(V_transposed, y)\n",
    "\n",
    "    # Normalized the weights\n",
    "    normalized_weights = unnormalized_weights * normalization_factor\n",
    "\n",
    "    return normalized_weights\n",
    "\n",
    "\n",
    "def NCQuad(f, a, b, w):\n",
    "    # Calculate the number of nodes\n",
    "    node_count = len(w)\n",
    "\n",
    "    # Calculate the degree of precision by subtracting 1 to the number of nodes\n",
    "    n = node_count - 1\n",
    "\n",
    "    # Calculate the step-size 'h'\n",
    "    h = (b - a) / n\n",
    "\n",
    "    # Obtain the actual weights from the normalized weights\n",
    "    weights = w * h\n",
    "\n",
    "    # Initialize the variable to store the integral\n",
    "    integral = 0\n",
    "\n",
    "    # Calculate the the integral quadrature of f over the interval [a, b]\n",
    "    for k in range(node_count):\n",
    "        integral += weights[k] * f(a + h*k)\n",
    "\n",
    "    return integral\n",
    "\n",
    "\n",
    "def CompositeNCQuad(f, a, b, n, m):\n",
    "    # Initialize the variable to store the integral\n",
    "    integral = 0\n",
    "\n",
    "    # Calculate the number of subintervals\n",
    "    for i in range(m):\n",
    "        left_endpoint_of_current_subinterval = a + (b / m) * i\n",
    "        right_endpoint_of_current_subinterval = left_endpoint_of_current_subinterval + (b / m)\n",
    "        integral += NCQuad(f, left_endpoint_of_current_subinterval, right_endpoint_of_current_subinterval, NormalNCWeights(n))\n",
    "\n",
    "    return integral"
   ]
  },
  {
   "cell_type": "markdown",
   "metadata": {
    "id": "GzfqHsuJShig"
   },
   "source": [
    "# Testing"
   ]
  },
  {
   "cell_type": "code",
   "execution_count": 19,
   "metadata": {
    "colab": {
     "base_uri": "https://localhost:8080/"
    },
    "id": "lCiXPjGuSfO2",
    "outputId": "e07cebbf-42ac-418e-fc31-cb93df289544"
   },
   "outputs": [
    {
     "name": "stdout",
     "output_type": "stream",
     "text": [
      "0.7702480820563341\n",
      "0.7702480820720065\n",
      "0.7702480820711671\n"
     ]
    }
   ],
   "source": [
    "# Given function to integrate\n",
    "def given_function(x):\n",
    "    return 1 / (x**4 - 3*x**2 + 4)\n",
    "\n",
    "'''\n",
    "Use CompositeNCQuad to approximate the given function at interval [0, 3] with [n, m] given by:\n",
    "'''\n",
    "\n",
    "# (i) [3, 100]\n",
    "print(CompositeNCQuad(given_function, 0, 3, 3, 100))\n",
    "\n",
    "# (ii) [4, 50]\n",
    "print(CompositeNCQuad(given_function, 0, 3, 4, 50))\n",
    "\n",
    "# (iii) [5,25]\n",
    "print(CompositeNCQuad(given_function, 0, 3, 5, 25))"
   ]
  }
 ],
 "metadata": {
  "colab": {
   "provenance": []
  },
  "kernelspec": {
   "display_name": "Python 3",
   "name": "python3"
  },
  "language_info": {
   "codemirror_mode": {
    "name": "ipython",
    "version": 3
   },
   "file_extension": ".py",
   "mimetype": "text/x-python",
   "name": "python",
   "nbconvert_exporter": "python",
   "pygments_lexer": "ipython3",
   "version": "3.9.6"
  }
 },
 "nbformat": 4,
 "nbformat_minor": 0
}
